{
 "cells": [
  {
   "cell_type": "markdown",
   "metadata": {
    "colab_type": "text",
    "id": "GymhX-DUKDGQ"
   },
   "source": [
    "All rights reserved to https://pbcquoc.github.io/yolo/\n",
    "\n",
    "## Import các thư viện\n",
    "Thay vì khai báo các biến, định nghĩa các layer bằng tensorflow một cách chi tiết, chúng ta sử dụng high level api của trong gói slim để định gọi CNN một cách nhanh gọn hơn."
   ]
  },
  {
   "cell_type": "code",
   "execution_count": 2,
   "metadata": {
    "ExecuteTime": {
     "end_time": "2019-01-01T15:16:19.321184Z",
     "start_time": "2019-01-01T15:16:06.266707Z"
    },
    "colab": {},
    "colab_type": "code",
    "id": "pN0WlnrSKDGY"
   },
   "outputs": [],
   "source": [
    "import tensorflow as tf\n",
    "## slim là package đi kèm với tensorflow, giúp định nghĩa nhanh các loại mô hình deep learning\n",
    "import tensorflow.contrib.slim as slim\n",
    "import tensorflow.contrib.slim.nets\n",
    "from tensorflow.contrib.slim.nets import vgg \n",
    "## sklearn là một thư viện rất phổ biến trong ML, chúng ta chỉ sử dụng tran_test_split để chia data thành 2 tập\n",
    "from sklearn.model_selection import train_test_split\n",
    "import json\n",
    "## thư viện tính toán trên matrix\n",
    "import numpy as np\n",
    "import cv2\n",
    "# thư viện hiển thị biểu đồ\n",
    "import matplotlib.pyplot as plt\n",
    "import time"
   ]
  },
  {
   "cell_type": "code",
   "execution_count": 0,
   "metadata": {
    "ExecuteTime": {
     "end_time": "2018-12-31T02:26:49.041261Z",
     "start_time": "2018-12-31T02:26:49.023352Z"
    },
    "colab": {},
    "colab_type": "code",
    "id": "6-m-ipgPKDGk"
   },
   "outputs": [],
   "source": [
    "# kích thước grid system \n",
    "cell_size = 7 \n",
    "# số boundary box cần dự đoán mỗi ô vuông\n",
    "box_per_cell = 2\n",
    "# kích thước ảnh đầu vào\n",
    "img_size = 224\n",
    "# số loại nhãn\n",
    "classes = {'circle':0, 'triangle':1,  'rectangle':2}\n",
    "nclass = len(classes)\n",
    "\n",
    "box_scale = 5.0\n",
    "noobject_scale = 0.5\n",
    "batch_size = 128\n",
    "# số lần huấn luyện\n",
    "# thử thay đổi số lần huấn luyện để cho kết quả tốt hơn\n",
    "epochs = 10\n",
    "# learning của chúng ta\n",
    "lr = 2e-3"
   ]
  },
  {
   "cell_type": "markdown",
   "metadata": {
    "colab_type": "text",
    "id": "NxeeKJ-FKDGv"
   },
   "source": [
    "## Load tập dữ liệu\n",
    "Chúng ta có 25k mẫu dữ liệu, mỗi ảnh có kích thước 224x224"
   ]
  },
  {
   "cell_type": "code",
   "execution_count": 3,
   "metadata": {
    "ExecuteTime": {
     "end_time": "2019-01-01T15:16:19.338409Z",
     "start_time": "2019-01-01T15:16:19.325431Z"
    },
    "colab": {},
    "colab_type": "code",
    "id": "vVc-CmEzKDGy"
   },
   "outputs": [],
   "source": [
    "def load():\n",
    "    labels = json.load(open('train/labels.json'))\n",
    "    # số lương ảnh\n",
    "    N = len(labels)\n",
    "    # matrix chứa ảnh\n",
    "    X = np.zeros((N, img_size, img_size, 3), dtype='uint8')\n",
    "    # matrix chứa nhãn của ảnh tương ứng\n",
    "    y = np.zeros((N, cell_size, cell_size, 5+nclass))  # 5: (1, x_center, y_center, w, h), nclass = *cl\n",
    "    for idx, label in enumerate(labels):\n",
    "        # load labels, get idx and use cv2, find img and tranfer to px\n",
    "        img = cv2.imread(\"train/{}.png\".format(idx))\n",
    "        X[idx] = img\n",
    "        for box in label['boxes']:\n",
    "            # 4 corner of boundary box\n",
    "            x1, y1 = box['x1'], box['y1']\n",
    "            x2, y2 = box['x2'], box['y2']\n",
    "            # one-hot vector của nhãn object\n",
    "            cl = [0]*nclass  #  = [0, 0, 0]\n",
    "            cl[classes[box['class']]] = 1  # tranfer 1 to [0, 0 , 0] with index 0, 1, 2\n",
    "            # tâm của boundary box\n",
    "            x_center, y_center, w, h = (x1+x2)/2.0, (y1+y2)/2.0, x2-x1, y2-y1\n",
    "            \n",
    "            # TODO \n",
    "            # tìm ô vuông trên matrix 7x7 mà tâm object thuộc về\n",
    "            x_idx, y_idx = int(x_center//(224/7)), int(y_center//(224/7))\n",
    "            # print(x_idx, y_idx)\n",
    "            # gán nhãn vào matrix \n",
    "            y[idx, y_idx, x_idx] = 1, x_center, y_center, w, h, *cl\n",
    "    \n",
    "    return X, y"
   ]
  },
  {
   "cell_type": "markdown",
   "metadata": {
    "colab_type": "text",
    "id": "9zpYCJrXKDG8"
   },
   "source": [
    "### Download tập dữ liệu trên"
   ]
  },
  {
   "cell_type": "code",
   "execution_count": null,
   "metadata": {
    "ExecuteTime": {
     "end_time": "2019-01-01T15:16:19.480599Z",
     "start_time": "2019-01-01T15:16:19.342890Z"
    },
    "colab": {
     "base_uri": "https://localhost:8080/",
     "height": 207
    },
    "colab_type": "code",
    "id": "hlyd-ON5KDG_",
    "outputId": "f5307726-e020-4a07-9164-9e9a92a773e2"
   },
   "outputs": [],
   "source": [
    "! wget --quiet --no-check-certificate 'https://drive.google.com/uc?export=download&id=1zt4Ek1907thRKeC3YcDIzFkYB2StIPy9' -O train.zip\n",
    "! unzip -o -q train.zip\n",
    "! ls train | head"
   ]
  },
  {
   "cell_type": "code",
   "execution_count": 0,
   "metadata": {
    "ExecuteTime": {
     "end_time": "2018-12-31T02:43:48.944645Z",
     "start_time": "2018-12-31T02:41:29.662631Z"
    },
    "colab": {},
    "colab_type": "code",
    "id": "jqrZCEiQKDHF",
    "scrolled": true
   },
   "outputs": [],
   "source": [
    "X, y = load()\n",
    "X_train, X_test, y_train, y_test = train_test_split(X, y, test_size=0.3, random_state=2018)"
   ]
  },
  {
   "cell_type": "markdown",
   "metadata": {
    "colab_type": "text",
    "id": "_qvRxKRUKDHZ"
   },
   "source": [
    "## Định nghĩa mô hình CNN\n",
    "gridsize là 7x7 là mỗi ô vuông dự đoán 2 boxes, và có 3 loại object tất cả thì chúng ta phải cần output có shape 7x7x13 từ mô hình CNN.\n",
    "YOLO sử dụng linear regression để dự đoán các thông tin ở mỗi ô vuông. Do đó, ở layer cuối cùng chúng ta sẽ không sử dụng bất kì hàm kích hoạt nào cả. Với ảnh đầu vào là 448x448, mô hình CNN có 6 tầng max pooling với size 2x2 sẽ giảm 64 lần kích thước ảnh xuống còn 7x7 ở output đầu ra. Đồng thời thay vì sử dụng tầng full connected ở các tầng cuối cùng, chúng ta có thể thay thế bằng tầng 1x1 conv với 13 feature maps để output shape dễ dàng cho ra 7x7x13."
   ]
  },
  {
   "cell_type": "code",
   "execution_count": 0,
   "metadata": {
    "ExecuteTime": {
     "end_time": "2018-12-29T01:51:33.914767Z",
     "start_time": "2018-12-29T01:51:33.848534Z"
    },
    "colab": {},
    "colab_type": "code",
    "id": "VeVGB1czKDHd"
   },
   "outputs": [],
   "source": [
    "def vgg16(inputs, is_training):\n",
    "    \"\"\"định nghĩa CNN\n",
    "    Args:\n",
    "      inputs: 5-D tensor [batch_size, width, height, 3]\n",
    "    Return:\n",
    "      iou: 4-D tensor [batch_size, 7, 7, 5*nbox + nclass]\n",
    "    \"\"\"\n",
    "    # khái báo scope để có thê group những biến liên quan cho việc visualize trên tensorboard.\n",
    "    with tf.variable_scope(\"vgg_16\"):\n",
    "        with slim.arg_scope(vgg.vgg_arg_scope()):\n",
    "            # hàm repeat có tác dụng lặp lại tầng conv2d n lần mà không phải định nghĩa phức tạp. thank for slim package\n",
    "            net = slim.repeat(inputs, 2, slim.conv2d, 16, [3, 3], scope='conv1')\n",
    "            net = slim.max_pool2d(net, [2, 2], scope='pool1')\n",
    "            \n",
    "            # TODO\n",
    "            # sử dụng slim.repeat  và slim.max_pool2d để định nghĩa phần còn lại của mô hình CNN\n",
    "            # lưu ý kích thước matrix output phải là [batch_size, 7, 7, 5*nbox + nclass]\n",
    "            # thay đổi số lượng tầng cũng như tham số để đạt kết quả iou trên tập valid > 0.92\n",
    "            net = slim.repeat(net, 3, slim.conv2d, 32, [3, 3], scope='conv2')\n",
    "            net = slim.max_pool2d(net, [2, 2], scope='pool2')\n",
    "            net = slim.repeat(net, 3, slim.conv2d, 64, [3, 3], scope='conv3')\n",
    "            net = slim.max_pool2d(net, [2, 2], scope='pool3')\n",
    "            net = slim.repeat(net, 3, slim.conv2d, 128, [3, 3], scope='conv4')\n",
    "            net = slim.max_pool2d(net, [2, 2], scope='pool4')\n",
    "            net = slim.repeat(net, 3, slim.conv2d, 128, [3, 3], scope='conv5')\n",
    "            net = slim.max_pool2d(net, [2, 2], scope='pool5')            \n",
    "            # thay vì sử dụng 2 tầng fully connected tại đây, \n",
    "            # chúng ta sử dụng conv với kernel_size = (1,1) có tác dụng giống hệt tầng fully conntected\n",
    "            net = slim.conv2d(net, 512, [1, 1], scope='fc6')   \n",
    "\n",
    "            net = slim.conv2d(net, 13, [1, 1], activation_fn=None, scope='fc7')\n",
    "    return net"
   ]
  },
  {
   "cell_type": "markdown",
   "metadata": {
    "colab_type": "text",
    "id": "5D-WPqr-KDHk"
   },
   "source": [
    "## Hàm tính IOU \n",
    "là hàm rất quan trọng của mô hình YOLO, giúp chúng ta đánh giá các boundary box được dự đoán có chính xác hay không"
   ]
  },
  {
   "cell_type": "code",
   "execution_count": 0,
   "metadata": {
    "ExecuteTime": {
     "end_time": "2018-12-29T01:51:36.932876Z",
     "start_time": "2018-12-29T01:51:36.913885Z"
    },
    "code_folding": [
     0
    ],
    "colab": {},
    "colab_type": "code",
    "id": "JlpY10hkKDHr"
   },
   "outputs": [],
   "source": [
    "def compute_iou(boxes1, boxes2, scope='iou'):\n",
    "    \"\"\"calculate ious\n",
    "    Args:\n",
    "      boxes1: 5-D tensor [BATCH_SIZE, CELL_SIZE, CELL_SIZE, BOXES_PER_CELL, 4]\n",
    "                  ====> (x_center, y_center, w, h)\n",
    "      boxes2: 5-D tensor [BATCH_SIZE, CELL_SIZE, CELL_SIZE, BOXES_PER_CELL, 4]\n",
    "                  ====> (x_center, y_center, w, h)\n",
    "    Return:\n",
    "      iou: 4-D tensor [BATCH_SIZE, CELL_SIZE, CELL_SIZE, BOXES_PER_CELL]\n",
    "    \"\"\"\n",
    "    with tf.variable_scope(scope):\n",
    "        # transform (x_center, y_center, w, h) to (x1, y1, x2, y2)\n",
    "        boxes1_t = tf.stack([boxes1[..., 0] - boxes1[..., 2] / 2.0,\n",
    "                             boxes1[..., 1] - boxes1[..., 3] / 2.0,\n",
    "                             boxes1[..., 0] + boxes1[..., 2] / 2.0,\n",
    "                             boxes1[..., 1] + boxes1[..., 3] / 2.0],\n",
    "                            axis=-1)\n",
    "\n",
    "        boxes2_t = tf.stack([boxes2[..., 0] - boxes2[..., 2] / 2.0,\n",
    "                             boxes2[..., 1] - boxes2[..., 3] / 2.0,\n",
    "                             boxes2[..., 0] + boxes2[..., 2] / 2.0,\n",
    "                             boxes2[..., 1] + boxes2[..., 3] / 2.0],\n",
    "                            axis=-1)\n",
    "\n",
    "        # calculate the left up point & right down point\n",
    "        lu = tf.maximum(boxes1_t[..., :2], boxes2_t[..., :2])\n",
    "        rd = tf.minimum(boxes1_t[..., 2:], boxes2_t[..., 2:])\n",
    "\n",
    "        # intersection\n",
    "        intersection = tf.maximum(0.0, rd - lu)\n",
    "        inter_square = intersection[..., 0] * intersection[..., 1]\n",
    "\n",
    "        # calculate the boxs1 square and boxs2 square\n",
    "        square1 = boxes1[..., 2] * boxes1[..., 3]\n",
    "        square2 = boxes2[..., 2] * boxes2[..., 3]\n",
    "\n",
    "        union_square = tf.maximum(square1 + square2 - inter_square, 1e-10)\n",
    "\n",
    "    return tf.clip_by_value(inter_square / union_square, 0.0, 1.0)    "
   ]
  },
  {
   "cell_type": "markdown",
   "metadata": {
    "colab_type": "text",
    "id": "4Etx4SwvKDH2"
   },
   "source": [
    "## Loss function"
   ]
  },
  {
   "cell_type": "code",
   "execution_count": 0,
   "metadata": {
    "colab": {},
    "colab_type": "code",
    "id": "qlqWU-OqKDH8"
   },
   "outputs": [],
   "source": [
    "def loss_layer(predicts, labels, scope='loss_layer'):\n",
    "    \"\"\"calculate loss function\n",
    "    Args:\n",
    "      predicts: 4-D tensor [batch_size, 7, 7, 5*nbox+n_class] \n",
    "      labels: 4-D tensor [batch_size, 7, 7, 5+n_class]\n",
    "    Return:\n",
    "      loss: scalar\n",
    "    \"\"\"\n",
    "    with tf.variable_scope(scope):\n",
    "        offset = np.transpose(np.reshape(np.array(\n",
    "            [np.arange(cell_size)] * cell_size * box_per_cell),\n",
    "            (box_per_cell, cell_size, cell_size)), (1, 2, 0))\n",
    "        offset = offset[None, :]\n",
    "        offset = tf.constant(offset, dtype=tf.float32)\n",
    "        offset_tran = tf.transpose(offset, (0, 2, 1, 3))\n",
    "\n",
    "        #     offset_tran.shape = (1,7,7,2)\n",
    "        \n",
    "        # 2 phần tử đầu của vector dự đoán tại một ô vuông là confidence score\n",
    "        predict_object = predicts[..., :box_per_cell]\n",
    "        \n",
    "        # 8 phần tử tiếp theo là dự đoán offset của boundary box và width height\n",
    "        predict_box_offset = tf.reshape(\n",
    "            predicts[..., box_per_cell:5 * box_per_cell],\n",
    "            (-1, cell_size, cell_size, box_per_cell, 4)\n",
    "        )\n",
    "        \n",
    "        # các phần tử cuối là dự đoán lớp của object\n",
    "        predict_class = predicts[...,5*box_per_cell:]\n",
    "        \n",
    "        # chuyển vị trí offset về toạ độ normalize trên khoảng [0-1]\n",
    "        predict_normalized_box = tf.stack(\n",
    "            [(predict_box_offset[..., 0] + offset) / cell_size,\n",
    "            (predict_box_offset[..., 1] + offset_tran) / cell_size,\n",
    "            tf.square(predict_box_offset[..., 2]),\n",
    "            tf.square(predict_box_offset[..., 3])], axis=-1)\n",
    "\n",
    "        # lấy các nhãn tương ứng \n",
    "        true_object = labels[..., :1]\n",
    "        true_box = tf.reshape(labels[..., 1:5], (-1, cell_size, cell_size, 1, 4))\n",
    "        \n",
    "        # để normalize tọa độ pixel về đoạn [0-1] chúng ta chia cho img_size (224)\n",
    "        true_normalized_box = tf.tile(true_box, (1, 1, 1, box_per_cell, 1))/img_size\n",
    "        true_class = labels[..., 5:]\n",
    "        \n",
    "        # tính vị trí offset từ nhãn \n",
    "        true_box_offset =  tf.stack(\n",
    "            [true_normalized_box[..., 0] * cell_size - offset,\n",
    "            true_normalized_box[..., 1] * cell_size - offset_tran,\n",
    "            tf.sqrt(true_normalized_box[..., 2]),\n",
    "            tf.sqrt(true_normalized_box[..., 3])], axis=-1)\n",
    "        \n",
    "        # tính iou\n",
    "        predict_iou = compute_iou(true_normalized_box, predict_normalized_box)\n",
    "        \n",
    "        # mask chứa vị trí các ô vuông chứa object\n",
    "        object_mask = tf.reduce_max(predict_iou, 3, keepdims=True)  \n",
    "        \n",
    "        # tính metric để monitor \n",
    "        iou_metric = tf.reduce_mean(\n",
    "            tf.reduce_sum(object_mask, axis=[1,2,3])/\n",
    "                tf.reduce_sum(true_object, axis=[1,2,3]))\n",
    "        \n",
    "        object_mask = tf.cast((predict_iou>=object_mask), tf.float32)*true_object\n",
    "\n",
    "        noobject_mask = tf.ones_like(object_mask) - object_mask\n",
    "        \n",
    "        ## TODO tính classification loss\n",
    "        ## class_delta là độ chênh lệch so với nhãn trước khi bình phương, \n",
    "        ## lưu ý chỉ object_mask để ignore những box không quan tâm\n",
    "        class_delta = true_object * (predict_class - true_class)\n",
    "        class_loss = tf.reduce_mean(\n",
    "            tf.reduce_sum(tf.square(class_delta), axis=[1,2,3]), name='class_loss')\n",
    "        \n",
    "        ## object loss\n",
    "        object_delta = object_mask*(predict_object - predict_iou)\n",
    "        \n",
    "        ## TODO tính object loss từ object_delta\n",
    "        object_loss = tf.reduce_mean(tf.reduce_sum(tf.square(object_delta), axis=[1, 2, 3]), name='object_loss')\n",
    "        \n",
    "        ## TODO tính noobject loss\n",
    "        noobject_delta = noobject_mask * predict_object\n",
    "        noobject_loss = tf.reduce_mean(\n",
    "            tf.reduce_sum(tf.square(noobject_delta),axis=[1,2,3]),\n",
    "            name='noobject_loss') * noobject_scale\n",
    "\n",
    "        ## TODO tính localization loss\n",
    "        box_mask = tf.expand_dims(object_mask, 4)\n",
    "        box_delta = box_mask * (predict_box_offset - true_box_offset)\n",
    "        box_loss = tf.reduce_mean(\n",
    "            tf.reduce_sum(tf.square(box_delta), axis=[1,2,3]), name='box_loss') * box_scale\n",
    "        \n",
    "        loss = 0.5*class_loss + object_loss + 0.1*noobject_loss + 10*box_loss\n",
    "        \n",
    "        return loss, iou_metric, predict_object, predict_class, predict_normalized_box"
   ]
  },
  {
   "cell_type": "markdown",
   "metadata": {
    "colab_type": "text",
    "id": "yfQrb04yKDID"
   },
   "source": [
    "## Biên dịch graph\n",
    "Phần khó đã qua, chúng mừng các bạn!!\n",
    "\n",
    "Bây giờ là biên dịch graph và định nghĩa optimizer"
   ]
  },
  {
   "cell_type": "code",
   "execution_count": 0,
   "metadata": {
    "colab": {},
    "colab_type": "code",
    "id": "oV4y_BrzKDIG"
   },
   "outputs": [],
   "source": [
    "graph = tf.Graph()\n",
    "with graph.as_default():    \n",
    "    # None đại diện cho batch_size, giúp batch_size có thể thay đổi linh hoạt\n",
    "    images = tf.placeholder(\"float\", [None, img_size, img_size, 3], name=\"input\")\n",
    "    labels = tf.placeholder('float', [None, cell_size, cell_size, 8], name='label')\n",
    "    is_training = tf.placeholder(tf.bool)\n",
    "\n",
    "    logits = vgg16(images, is_training)\n",
    "    loss, iou_metric, predict_object, predict_class,\\\n",
    "        predict_normalized_box = loss_layer(logits, labels)\n",
    "    \n",
    "    # định nghĩa adam optimizer, để tối ưu hàm loss\n",
    "    optimizer = tf.train.AdamOptimizer(lr)\n",
    "    train_op = optimizer.minimize(loss)"
   ]
  },
  {
   "cell_type": "markdown",
   "metadata": {
    "colab_type": "text",
    "id": "rzw4ZCjvKDIO"
   },
   "source": [
    "## Training\n",
    "Phần này chúng ta sẽ bắt đầu training, và tính iou metric để quan sát, iou nhận giá trị từ [0-1], sấp xỉ 1 là rất tốt"
   ]
  },
  {
   "cell_type": "code",
   "execution_count": 11,
   "metadata": {
    "colab": {
     "base_uri": "https://localhost:8080/",
     "height": 398
    },
    "colab_type": "code",
    "id": "IoZcZlwGKDIR",
    "outputId": "0d8e1ce1-df16-4902-8b4d-1b7cdc819597"
   },
   "outputs": [
    {
     "name": "stdout",
     "output_type": "stream",
     "text": [
      "training time: 92.21504545211792\n",
      "epoch: 0 - test_time: 14s - train_loss: 2.999 - train_iou: 0.599 - val_loss: 3.082 - val_iou: 0.610\n",
      "training time: 85.99295806884766\n",
      "epoch: 1 - test_time: 14s - train_loss: 0.892 - train_iou: 0.695 - val_loss: 1.009 - val_iou: 0.724\n",
      "training time: 85.95989894866943\n",
      "epoch: 2 - test_time: 14s - train_loss: 0.746 - train_iou: 0.697 - val_loss: 0.632 - val_iou: 0.770\n",
      "training time: 86.01082015037537\n",
      "epoch: 3 - test_time: 14s - train_loss: 0.465 - train_iou: 0.794 - val_loss: 0.453 - val_iou: 0.783\n",
      "training time: 86.025643825531\n",
      "epoch: 4 - test_time: 14s - train_loss: 0.375 - train_iou: 0.826 - val_loss: 0.361 - val_iou: 0.809\n",
      "training time: 86.01230359077454\n",
      "epoch: 5 - test_time: 14s - train_loss: 0.329 - train_iou: 0.830 - val_loss: 0.343 - val_iou: 0.788\n",
      "training time: 86.0119309425354\n",
      "epoch: 6 - test_time: 14s - train_loss: 0.271 - train_iou: 0.841 - val_loss: 0.296 - val_iou: 0.830\n",
      "training time: 86.01074004173279\n",
      "epoch: 7 - test_time: 14s - train_loss: 0.220 - train_iou: 0.854 - val_loss: 0.265 - val_iou: 0.851\n",
      "training time: 86.02940320968628\n",
      "epoch: 8 - test_time: 14s - train_loss: 0.197 - train_iou: 0.863 - val_loss: 0.251 - val_iou: 0.854\n",
      "training time: 86.07348465919495\n",
      "epoch: 9 - test_time: 14s - train_loss: 0.164 - train_iou: 0.864 - val_loss: 0.236 - val_iou: 0.856\n"
     ]
    }
   ],
   "source": [
    "with tf.Session(graph=graph) as sess:\n",
    "    sess.run(tf.global_variables_initializer())\n",
    "    \n",
    "    # định nghĩa saver để lưu lại trọng số của mô hình, dùng trong test các ảnh mới\n",
    "    saver = tf.train.Saver(max_to_keep=1)\n",
    "\n",
    "    for epoch in range(epochs):\n",
    "        start_time = time.time()\n",
    "        batch_time = []\n",
    "        for batch in range(len(X_train)//batch_size):\n",
    "            \n",
    "            # TODO \n",
    "            # lấy từng batch, forward, backward, cập nhật trọng số theo adam optimizer\n",
    "            \n",
    "            X_batch = X_train[batch*batch_size:(batch+1)*batch_size, ...]\n",
    "            y_batch = y_train[batch*batch_size:(batch+1)*batch_size, ...]\n",
    "            train_total_loss, train_iou_m,_ = sess.run([loss, iou_metric, train_op], {images:X_batch, labels:y_batch, is_training:True})\n",
    "        end_time = time.time()\n",
    "        print('training time: {}'.format(end_time - start_time))\n",
    "        # tính toán loss, iou trên tập validation\n",
    "        val_loss = []\n",
    "        val_iou_ms = []\n",
    "        for batch in range(len(X_test)//batch_size):\n",
    "            val_X_batch = X_test[batch*batch_size:(batch+1)*batch_size]\n",
    "            val_y_batch = y_test[batch*batch_size:(batch+1)*batch_size]\n",
    "            total_val_loss, val_iou_m, val_predict_object, val_predict_class, val_predict_normalized_box = sess.run([loss, iou_metric, predict_object, predict_class, predict_normalized_box], \n",
    "                                                 {images:val_X_batch, labels:val_y_batch, is_training:False})\n",
    "            val_loss.append(total_val_loss)\n",
    "            val_iou_ms.append(val_iou_m)\n",
    "            \n",
    "        epoch_time = time.time()\n",
    "        saver.save(sess, './model/yolo', global_step=epoch)\n",
    "        print('epoch: {} - test_time: {:.0f}s - train_loss: {:.3f} - train_iou: {:.3f} - val_loss: {:.3f} - val_iou: {:.3f}'.format(epoch, epoch_time - end_time, train_total_loss, train_iou_m, np.mean(val_loss), np.mean(val_iou_ms)))"
   ]
  },
  {
   "cell_type": "markdown",
   "metadata": {
    "colab_type": "text",
    "id": "tB7E9cRvKDIb"
   },
   "source": [
    "## Hiển thị kết quả dự đoán\n",
    "Filter tất cả các box không thỏa điều kiện như ko chứa object, merge các box overlap nhiều"
   ]
  },
  {
   "cell_type": "code",
   "execution_count": 0,
   "metadata": {
    "code_folding": [
     0,
     15
    ],
    "colab": {},
    "colab_type": "code",
    "id": "9GUiOvZ8KDIe"
   },
   "outputs": [],
   "source": [
    "def iou(box1, box2):\n",
    "    \"\"\" tính iou bằng numpy \n",
    "    Args:\n",
    "      box1: [center_x, center_y, w, h] \n",
    "      box2: [center_x, center_y, w, h] \n",
    "    Return:\n",
    "      iou: iou\n",
    "    \"\"\"\n",
    "    tb = min(box1[0] + 0.5 * box1[2], box2[0] + 0.5 * box2[2]) - \\\n",
    "        max(box1[0] - 0.5 * box1[2], box2[0] - 0.5 * box2[2])\n",
    "    lr = min(box1[1] + 0.5 * box1[3], box2[1] + 0.5 * box2[3]) - \\\n",
    "        max(box1[1] - 0.5 * box1[3], box2[1] - 0.5 * box2[3])\n",
    "    inter = 0 if tb < 0 or lr < 0 else tb * lr\n",
    "    return inter / (box1[2] * box1[3] + box2[2] * box2[3] - inter)\n",
    "    \n",
    "def interpret_output(predict_object, predict_class, predict_normalized_box):\n",
    "    # nhận lại img-size để ra không gian pixel\n",
    "    predict_box= predict_normalized_box*img_size\n",
    "    predict_object = np.expand_dims(predict_object, axis=-1)\n",
    "    predict_class = np.expand_dims(predict_class, axis=-2)\n",
    "    # xác suất ô boundary chứa class bằng boundary chứa object * xác suất có điều kiện của lớp đó mà ô vuông chứa object\n",
    "    class_probs = predict_object*predict_class\n",
    "    \n",
    "    # giữ các boundary box mà có xác suất chứa lớp >= 0.2\n",
    "    filter_mat_probs = np.array(class_probs >= 0.2, dtype='bool')\n",
    "    filter_mat_boxes = np.nonzero(filter_mat_probs)\n",
    "    boxes_filtered = predict_box[filter_mat_boxes[0], filter_mat_boxes[1], filter_mat_boxes[2]]\n",
    "    class_probs_filtered = class_probs[filter_mat_probs]\n",
    "    \n",
    "    # chọn index của lớp có xác xuất lớp nhất lại mỗi boundary box\n",
    "    classes_num_filtered = np.argmax(\n",
    "        filter_mat_probs, axis=3)[\n",
    "        filter_mat_boxes[0], filter_mat_boxes[1], filter_mat_boxes[2]]\n",
    "\n",
    "    # giữ lại boundary box dự đoán có xác xuất lớp nhất\n",
    "    argsort = np.array(np.argsort(class_probs_filtered))[::-1]\n",
    "    boxes_filtered = boxes_filtered[argsort]\n",
    "    class_probs_filtered = class_probs_filtered[argsort]\n",
    "    classes_num_filtered = classes_num_filtered[argsort]\n",
    "\n",
    "    # thuật toán non-maximun suppression\n",
    "    for i in range(len(boxes_filtered)):\n",
    "        if class_probs_filtered[i] == 0:\n",
    "            continue\n",
    "        for j in range(i + 1, len(boxes_filtered)):\n",
    "            if iou(boxes_filtered[i], boxes_filtered[j]) > 0.5:\n",
    "                class_probs_filtered[j] = 0.0\n",
    "                \n",
    "    # filter bước cuối bỏ những boundary overlap theo thuật toán trên\n",
    "    filter_iou = np.array(class_probs_filtered > 0.0, dtype='bool')\n",
    "    boxes_filtered = boxes_filtered[filter_iou]\n",
    "    class_probs_filtered = class_probs_filtered[filter_iou]\n",
    "    classes_num_filtered = classes_num_filtered[filter_iou]\n",
    "\n",
    "    result = []\n",
    "    for i in range(len(boxes_filtered)):\n",
    "        result.append(\n",
    "            [classes_num_filtered[i],\n",
    "             boxes_filtered[i][0],\n",
    "             boxes_filtered[i][1],\n",
    "             boxes_filtered[i][2],\n",
    "             boxes_filtered[i][3],\n",
    "             class_probs_filtered[i]])\n",
    "\n",
    "    return result\n",
    "\n",
    "def draw_result(img, result):\n",
    "    \"\"\" hiển thị kết quả dự đoán\n",
    "    Args:\n",
    "      img: ảnh      \n",
    "      result: giá trị sinh ra ở hàm trên    \n",
    "    \"\"\"\n",
    "    plt.figure(figsize=(10,10), dpi=40)\n",
    "    img = np.pad(img, [(50,50), (50,50), (0,0)], mode='constant', constant_values=255)\n",
    "    for i in range(len(result)):\n",
    "        x = int(result[i][1])+50\n",
    "        y = int(result[i][2])+50\n",
    "        w = int(result[i][3] / 2)\n",
    "        h = int(result[i][4] / 2)\n",
    "        cv2.rectangle(img, (x - w, y - h), (x + w, y + h), (231, 76, 60), 2)\n",
    "        cv2.rectangle(img, (x - w, y - h - 20),\n",
    "                      (x -w + 50, y - h), (46, 204, 113), -1)\n",
    "        cv2.putText(\n",
    "            img, '{} : {:.2f}'.format(result[i][0] ,result[i][5]),\n",
    "            (x - w + 5, y - h - 7), cv2.FONT_HERSHEY_SIMPLEX, 0.3,\n",
    "            (0, 0, 0), 1, cv2.LINE_AA)\n",
    "\n",
    "    plt.imshow(img)\n",
    "    plt.xticks([])\n",
    "    plt.yticks([])"
   ]
  },
  {
   "cell_type": "markdown",
   "metadata": {
    "colab_type": "text",
    "id": "CtCXyD2pKDIk"
   },
   "source": [
    "Chọn một từ tập validation, rồi hiển thị "
   ]
  },
  {
   "cell_type": "code",
   "execution_count": 17,
   "metadata": {
    "colab": {
     "base_uri": "https://localhost:8080/",
     "height": 3117
    },
    "colab_type": "code",
    "id": "5KamNiFyKDIk",
    "outputId": "71a7ce8a-d2ec-450e-8c64-7169285ed183"
   },
   "outputs": [
    {
     "data": {
      "image/png": "[encoded data removed]",
      "text/plain": [
       "<matplotlib.figure.Figure at 0x7fa090d37b00>"
      ]
     },
     "metadata": {
      "tags": []
     },
     "output_type": "display_data"
    },
    {
     "data": {
      "image/png": "[encoded data removed]",
      "text/plain": [
       "<matplotlib.figure.Figure at 0x7fa090dd51d0>"
      ]
     },
     "metadata": {
      "tags": []
     },
     "output_type": "display_data"
    },
    {
     "data": {
      "image/png": "[encoded data removed]",
      "text/plain": [
       "<matplotlib.figure.Figure at 0x7fa090d9fb00>"
      ]
     },
     "metadata": {
      "tags": []
     },
     "output_type": "display_data"
    },
    {
     "data": {
      "image/png": "[encoded data removed]",
      "text/plain": [
       "<matplotlib.figure.Figure at 0x7fa090ceeba8>"
      ]
     },
     "metadata": {
      "tags": []
     },
     "output_type": "display_data"
    },
    {
     "data": {
      "image/png": "[encoded data removed]",
      "text/plain": [
       "<matplotlib.figure.Figure at 0x7fa090eb1438>"
      ]
     },
     "metadata": {
      "tags": []
     },
     "output_type": "display_data"
    },
    {
     "data": {
      "image/png": "[encoded data removed]",
      "text/plain": [
       "<matplotlib.figure.Figure at 0x7fa090c3c6d8>"
      ]
     },
     "metadata": {
      "tags": []
     },
     "output_type": "display_data"
    },
    {
     "data": {
      "image/png": "[encoded data removed]",
      "text/plain": [
       "<matplotlib.figure.Figure at 0x7fa090c89b00>"
      ]
     },
     "metadata": {
      "tags": []
     },
     "output_type": "display_data"
    },
    {
     "data": {
      "image/png": "[encoded data removed]",
      "text/plain": [
       "<matplotlib.figure.Figure at 0x7fa0b004fba8>"
      ]
     },
     "metadata": {
      "tags": []
     },
     "output_type": "display_data"
    },
    {
     "data": {
      "image/png": "[encoded data removed]",
      "text/plain": [
       "<matplotlib.figure.Figure at 0x7fa090ee3d30>"
      ]
     },
     "metadata": {
      "tags": []
     },
     "output_type": "display_data"
    },
    {
     "data": {
      "image/png": "[encoded data removed]",
      "text/plain": [
       "<matplotlib.figure.Figure at 0x7fa090e66278>"
      ]
     },
     "metadata": {
      "tags": []
     },
     "output_type": "display_data"
    }
   ],
   "source": [
    "for img_idx in range(10):\n",
    "    result = interpret_output(val_predict_object[img_idx], val_predict_class[img_idx], val_predict_normalized_box[img_idx])\n",
    "    draw_result(val_X_batch[img_idx]*255, result)            "
   ]
  }
 ],
 "metadata": {
  "accelerator": "GPU",
  "colab": {
   "collapsed_sections": [],
   "name": "assignment3-yolo-mini.ipynb",
   "provenance": [],
   "version": "0.3.2"
  },
  "kernelspec": {
   "display_name": "Python 3",
   "language": "python",
   "name": "python3"
  },
  "language_info": {
   "codemirror_mode": {
    "name": "ipython",
    "version": 3
   },
   "file_extension": ".py",
   "mimetype": "text/x-python",
   "name": "python",
   "nbconvert_exporter": "python",
   "pygments_lexer": "ipython3",
   "version": "3.6.5"
  }
 },
 "nbformat": 4,
 "nbformat_minor": 1
}
